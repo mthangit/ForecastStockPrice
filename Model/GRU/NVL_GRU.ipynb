{
  "nbformat": 4,
  "nbformat_minor": 0,
  "metadata": {
    "colab": {
      "provenance": []
    },
    "kernelspec": {
      "name": "python3",
      "display_name": "Python 3"
    },
    "language_info": {
      "name": "python"
    }
  },
  "cells": [
    {
      "cell_type": "code",
      "execution_count": 1,
      "metadata": {
        "id": "2s2M7RWnLyVs"
      },
      "outputs": [],
      "source": [
        "import numpy as np\n",
        "import pandas as pd\n",
        "import matplotlib.pyplot as plt\n",
        "from sklearn.preprocessing import MinMaxScaler\n",
        "from keras.models import Sequential\n",
        "from keras.layers import Dense, GRU"
      ]
    },
    {
      "cell_type": "code",
      "source": [
        "# 2. Đọc file csv và gắng index với giá Close\n",
        "df = pd.read_csv('NVL-Historical-Data.csv')"
      ],
      "metadata": {
        "id": "N4mD72x5nuXt"
      },
      "execution_count": 2,
      "outputs": []
    },
    {
      "cell_type": "code",
      "source": [
        "# Xử lý dữ liệu trong cột Price\n",
        "df['Price'] = df['Price'].str.replace(',', '').astype(float)"
      ],
      "metadata": {
        "id": "nqk_hg_BNBNJ"
      },
      "execution_count": 3,
      "outputs": []
    },
    {
      "cell_type": "code",
      "source": [
        "# Thiết lập index\n",
        "df1=df.reset_index()['Price']"
      ],
      "metadata": {
        "id": "UN5dzdoDNEet"
      },
      "execution_count": 4,
      "outputs": []
    },
    {
      "cell_type": "code",
      "source": [
        "# 3. Scaler data\n",
        "scaler=MinMaxScaler(feature_range=(0,1))\n",
        "df1=scaler.fit_transform(np.array(df1).reshape(-1,1))"
      ],
      "metadata": {
        "id": "b1XLCdJHMRAd"
      },
      "execution_count": 5,
      "outputs": []
    },
    {
      "cell_type": "code",
      "source": [
        "# 3. Chia train test 7_3\n",
        "train_size_7_3 = int(0.7 * len(df1))\n",
        "test_size_7_3 = len(df1) - train_size_7_3\n",
        "\n",
        "train_data_7_3 = df1[:train_size_7_3]\n",
        "test_data_7_3 = df1[train_size_7_3:]"
      ],
      "metadata": {
        "id": "N2V9Ef4pNhP-"
      },
      "execution_count": 6,
      "outputs": []
    },
    {
      "cell_type": "code",
      "source": [
        "# 3. Chia train test 8_2\n",
        "train_size_8_2 = int(0.8 * len(df1))\n",
        "test_size_8_2 = len(df1) - train_size_8_2\n",
        "\n",
        "train_data_8_2 = df1[:train_size_8_2]\n",
        "test_data_8_2 = df1[train_size_8_2:]"
      ],
      "metadata": {
        "id": "G6LwdRGreOtq"
      },
      "execution_count": 7,
      "outputs": []
    },
    {
      "cell_type": "code",
      "source": [
        "# 3. Chia train test 9_1\n",
        "train_size_9_1 = int(0.9 * len(df1))\n",
        "test_size_9_1 = len(df1) - train_size_9_1\n",
        "\n",
        "train_data_9_1= df1[:train_size_9_1]\n",
        "test_data_9_1 = df1[train_size_9_1:]"
      ],
      "metadata": {
        "id": "GM5nqCJheQPd"
      },
      "execution_count": 8,
      "outputs": []
    },
    {
      "cell_type": "code",
      "source": [
        "def create_dataset(dataset, time_step=1):\n",
        "\tdataX, dataY = [], []\n",
        "\tfor i in range(len(dataset) - time_step - 1):\n",
        "\t\ta = dataset[i:(i + time_step)]\n",
        "\t\tdataX.append(a)\n",
        "\t\tdataY.append(dataset[i + time_step])\n",
        "\treturn np.array(dataX), np.array(dataY)\n"
      ],
      "metadata": {
        "id": "5VummKZ8Nq9P"
      },
      "execution_count": 9,
      "outputs": []
    },
    {
      "cell_type": "code",
      "source": [
        "# 4. Reshape into X=t,t+1,t+2..t+99 and Y=t+100 _7_3\n",
        "time_step = 100\n",
        "X_train_7_3, y_train_7_3 = create_dataset(train_data_7_3, time_step)\n",
        "X_test_7_3, y_test_7_3 = create_dataset(test_data_7_3, time_step)\n",
        "\n",
        "# Reshape dữ liệu cho phù hợp với mạng GRU\n",
        "X_train_7_3 = X_train_7_3.reshape(X_train_7_3.shape[0], X_train_7_3.shape[1], 1)\n",
        "X_test_7_3 = X_test_7_3.reshape(X_test_7_3.shape[0], X_test_7_3.shape[1], 1)"
      ],
      "metadata": {
        "id": "jJ0ONhiRDMht"
      },
      "execution_count": 11,
      "outputs": []
    },
    {
      "cell_type": "code",
      "source": [
        "# 4. Reshape into X=t,t+1,t+2..t+99 and Y=t+100 _8_2\n",
        "time_step = 100\n",
        "X_train_8_2, y_train_8_2 = create_dataset(train_data_8_2, time_step)\n",
        "X_test_8_2, y_test_8_2 = create_dataset(test_data_8_2, time_step)\n",
        "\n",
        "# Reshape dữ liệu cho phù hợp với mạng GRU\n",
        "X_train_8_2 = X_train_8_2.reshape(X_train_8_2.shape[0], X_train_8_2.shape[1], 1)\n",
        "X_test_8_2 = X_test_8_2.reshape(X_test_8_2.shape[0], X_test_8_2.shape[1], 1)"
      ],
      "metadata": {
        "id": "9wgrf7p0kQe0"
      },
      "execution_count": 14,
      "outputs": []
    },
    {
      "cell_type": "code",
      "source": [
        "# 4. Reshape into X=t,t+1,t+2..t+99 and Y=t+100 _9_1\n",
        "time_step = 100\n",
        "X_train_9_1, y_train_9_1 = create_dataset(train_data_9_1, time_step)\n",
        "X_test_9_1, y_test_9_1 = create_dataset(test_data_9_1, time_step)\n",
        "\n",
        "# Reshape dữ liệu cho phù hợp với mạng GRU\n",
        "X_train_9_1 = X_train_9_1.reshape(X_train_9_1.shape[0], X_train_9_1.shape[1], 1)\n",
        "X_test_9_1 = X_test_9_1.reshape(X_test_9_1.shape[0], X_test_9_1.shape[1], 1)"
      ],
      "metadata": {
        "id": "D8e_lnDpkfBw"
      },
      "execution_count": 15,
      "outputs": []
    },
    {
      "cell_type": "code",
      "source": [
        "# 5. Define GRU Model\n",
        "\n",
        "model_7_3 = Sequential()\n",
        "model_7_3.add(GRU(64, input_shape=(time_step, 1)))\n",
        "model_7_3.add(Dense(1))\n",
        "model_7_3.compile(optimizer='adam', loss='mean_squared_error')\n",
        "model_8_2 = Sequential()\n",
        "model_8_2.add(GRU(64, input_shape=(time_step, 1)))\n",
        "model_8_2.add(Dense(1))\n",
        "model_8_2.compile(optimizer='adam', loss='mean_squared_error')\n",
        "model_9_1 = Sequential()\n",
        "model_9_1.add(GRU(64, input_shape=(time_step, 1)))\n",
        "model_9_1.add(Dense(1))\n",
        "model_9_1.compile(optimizer='adam', loss='mean_squared_error')"
      ],
      "metadata": {
        "id": "AghcD3L7Nww-"
      },
      "execution_count": 16,
      "outputs": []
    },
    {
      "cell_type": "code",
      "source": [
        "# 6. Fit mô hình với dữ liệu train\n",
        "model_7_3.fit(X_train_7_3, y_train_7_3, epochs=50, batch_size=64, verbose=1)\n"
      ],
      "metadata": {
        "colab": {
          "base_uri": "https://localhost:8080/"
        },
        "id": "ccnfGWNQNzgS",
        "outputId": "9d61e55f-a1ce-4641-904e-1568ecb8ad0d"
      },
      "execution_count": 17,
      "outputs": [
        {
          "output_type": "stream",
          "name": "stdout",
          "text": [
            "Epoch 1/50\n",
            "19/19 [==============================] - 4s 45ms/step - loss: 0.1044\n",
            "Epoch 2/50\n",
            "19/19 [==============================] - 1s 45ms/step - loss: 0.0160\n",
            "Epoch 3/50\n",
            "19/19 [==============================] - 1s 54ms/step - loss: 0.0067\n",
            "Epoch 4/50\n",
            "19/19 [==============================] - 1s 47ms/step - loss: 0.0018\n",
            "Epoch 5/50\n",
            "19/19 [==============================] - 1s 51ms/step - loss: 5.0122e-04\n",
            "Epoch 6/50\n",
            "19/19 [==============================] - 1s 53ms/step - loss: 3.6659e-04\n",
            "Epoch 7/50\n",
            "19/19 [==============================] - 1s 51ms/step - loss: 3.3369e-04\n",
            "Epoch 8/50\n",
            "19/19 [==============================] - 1s 46ms/step - loss: 3.3627e-04\n",
            "Epoch 9/50\n",
            "19/19 [==============================] - 1s 57ms/step - loss: 3.1792e-04\n",
            "Epoch 10/50\n",
            "19/19 [==============================] - 1s 72ms/step - loss: 3.0917e-04\n",
            "Epoch 11/50\n",
            "19/19 [==============================] - 1s 75ms/step - loss: 3.0351e-04\n",
            "Epoch 12/50\n",
            "19/19 [==============================] - 1s 44ms/step - loss: 2.9904e-04\n",
            "Epoch 13/50\n",
            "19/19 [==============================] - 1s 54ms/step - loss: 2.8368e-04\n",
            "Epoch 14/50\n",
            "19/19 [==============================] - 1s 56ms/step - loss: 2.8126e-04\n",
            "Epoch 15/50\n",
            "19/19 [==============================] - 1s 55ms/step - loss: 2.6990e-04\n",
            "Epoch 16/50\n",
            "19/19 [==============================] - 1s 54ms/step - loss: 2.8339e-04\n",
            "Epoch 17/50\n",
            "19/19 [==============================] - 1s 52ms/step - loss: 2.6622e-04\n",
            "Epoch 18/50\n",
            "19/19 [==============================] - 1s 53ms/step - loss: 2.6160e-04\n",
            "Epoch 19/50\n",
            "19/19 [==============================] - 1s 56ms/step - loss: 2.7617e-04\n",
            "Epoch 20/50\n",
            "19/19 [==============================] - 1s 53ms/step - loss: 2.4772e-04\n",
            "Epoch 21/50\n",
            "19/19 [==============================] - 1s 60ms/step - loss: 2.3940e-04\n",
            "Epoch 22/50\n",
            "19/19 [==============================] - 2s 82ms/step - loss: 2.3581e-04\n",
            "Epoch 23/50\n",
            "19/19 [==============================] - 1s 74ms/step - loss: 2.3885e-04\n",
            "Epoch 24/50\n",
            "19/19 [==============================] - 2s 100ms/step - loss: 2.3708e-04\n",
            "Epoch 25/50\n",
            "19/19 [==============================] - 2s 107ms/step - loss: 2.3674e-04\n",
            "Epoch 26/50\n",
            "19/19 [==============================] - 2s 106ms/step - loss: 2.2340e-04\n",
            "Epoch 27/50\n",
            "19/19 [==============================] - 2s 106ms/step - loss: 2.1697e-04\n",
            "Epoch 28/50\n",
            "19/19 [==============================] - 2s 87ms/step - loss: 2.2592e-04\n",
            "Epoch 29/50\n",
            "19/19 [==============================] - 1s 66ms/step - loss: 2.1306e-04\n",
            "Epoch 30/50\n",
            "19/19 [==============================] - 1s 73ms/step - loss: 2.0930e-04\n",
            "Epoch 31/50\n",
            "19/19 [==============================] - 2s 82ms/step - loss: 2.2830e-04\n",
            "Epoch 32/50\n",
            "19/19 [==============================] - 1s 66ms/step - loss: 2.0700e-04\n",
            "Epoch 33/50\n",
            "19/19 [==============================] - 1s 67ms/step - loss: 2.0232e-04\n",
            "Epoch 34/50\n",
            "19/19 [==============================] - 2s 88ms/step - loss: 2.0107e-04\n",
            "Epoch 35/50\n",
            "19/19 [==============================] - 2s 81ms/step - loss: 1.9522e-04\n",
            "Epoch 36/50\n",
            "19/19 [==============================] - 1s 49ms/step - loss: 1.9215e-04\n",
            "Epoch 37/50\n",
            "19/19 [==============================] - 1s 47ms/step - loss: 1.9010e-04\n",
            "Epoch 38/50\n",
            "19/19 [==============================] - 1s 50ms/step - loss: 1.9352e-04\n",
            "Epoch 39/50\n",
            "19/19 [==============================] - 1s 45ms/step - loss: 1.9749e-04\n",
            "Epoch 40/50\n",
            "19/19 [==============================] - 1s 44ms/step - loss: 1.8764e-04\n",
            "Epoch 41/50\n",
            "19/19 [==============================] - 2s 83ms/step - loss: 1.8593e-04\n",
            "Epoch 42/50\n",
            "19/19 [==============================] - 1s 78ms/step - loss: 1.8247e-04\n",
            "Epoch 43/50\n",
            "19/19 [==============================] - 2s 100ms/step - loss: 1.9224e-04\n",
            "Epoch 44/50\n",
            "19/19 [==============================] - 1s 44ms/step - loss: 1.9620e-04\n",
            "Epoch 45/50\n",
            "19/19 [==============================] - 1s 44ms/step - loss: 1.8143e-04\n",
            "Epoch 46/50\n",
            "19/19 [==============================] - 1s 44ms/step - loss: 1.8585e-04\n",
            "Epoch 47/50\n",
            "19/19 [==============================] - 1s 44ms/step - loss: 1.8588e-04\n",
            "Epoch 48/50\n",
            "19/19 [==============================] - 1s 45ms/step - loss: 1.7530e-04\n",
            "Epoch 49/50\n",
            "19/19 [==============================] - 1s 55ms/step - loss: 1.7494e-04\n",
            "Epoch 50/50\n",
            "19/19 [==============================] - 1s 46ms/step - loss: 1.7294e-04\n"
          ]
        },
        {
          "output_type": "execute_result",
          "data": {
            "text/plain": [
              "<keras.src.callbacks.History at 0x7d05f8a81c30>"
            ]
          },
          "metadata": {},
          "execution_count": 17
        }
      ]
    },
    {
      "cell_type": "code",
      "source": [
        "model_8_2.fit(X_train_8_2, y_train_8_2, epochs=50, batch_size=64, verbose=1)\n"
      ],
      "metadata": {
        "colab": {
          "base_uri": "https://localhost:8080/"
        },
        "id": "khNSzr8uIlQt",
        "outputId": "7940944c-daba-41ee-fd24-92580d0207f1"
      },
      "execution_count": 18,
      "outputs": [
        {
          "output_type": "stream",
          "name": "stdout",
          "text": [
            "Epoch 1/50\n",
            "21/21 [==============================] - 4s 73ms/step - loss: 0.0316\n",
            "Epoch 2/50\n",
            "21/21 [==============================] - 2s 90ms/step - loss: 0.0035\n",
            "Epoch 3/50\n",
            "21/21 [==============================] - 2s 73ms/step - loss: 9.2261e-04\n",
            "Epoch 4/50\n",
            "21/21 [==============================] - 2s 101ms/step - loss: 2.8640e-04\n",
            "Epoch 5/50\n",
            "21/21 [==============================] - 2s 99ms/step - loss: 2.5074e-04\n",
            "Epoch 6/50\n",
            "21/21 [==============================] - 3s 119ms/step - loss: 2.3775e-04\n",
            "Epoch 7/50\n",
            "21/21 [==============================] - 2s 105ms/step - loss: 2.3065e-04\n",
            "Epoch 8/50\n",
            "21/21 [==============================] - 2s 89ms/step - loss: 2.2922e-04\n",
            "Epoch 9/50\n",
            "21/21 [==============================] - 2s 90ms/step - loss: 2.1965e-04\n",
            "Epoch 10/50\n",
            "21/21 [==============================] - 1s 56ms/step - loss: 2.1593e-04\n",
            "Epoch 11/50\n",
            "21/21 [==============================] - 1s 46ms/step - loss: 2.1184e-04\n",
            "Epoch 12/50\n",
            "21/21 [==============================] - 1s 54ms/step - loss: 2.0678e-04\n",
            "Epoch 13/50\n",
            "21/21 [==============================] - 1s 54ms/step - loss: 2.0401e-04\n",
            "Epoch 14/50\n",
            "21/21 [==============================] - 1s 48ms/step - loss: 2.0015e-04\n",
            "Epoch 15/50\n",
            "21/21 [==============================] - 1s 45ms/step - loss: 1.9528e-04\n",
            "Epoch 16/50\n",
            "21/21 [==============================] - 1s 45ms/step - loss: 1.9297e-04\n",
            "Epoch 17/50\n",
            "21/21 [==============================] - 1s 48ms/step - loss: 1.8967e-04\n",
            "Epoch 18/50\n",
            "21/21 [==============================] - 1s 47ms/step - loss: 1.8809e-04\n",
            "Epoch 19/50\n",
            "21/21 [==============================] - 1s 61ms/step - loss: 1.8394e-04\n",
            "Epoch 20/50\n",
            "21/21 [==============================] - 2s 87ms/step - loss: 1.8194e-04\n",
            "Epoch 21/50\n",
            "21/21 [==============================] - 1s 68ms/step - loss: 1.7994e-04\n",
            "Epoch 22/50\n",
            "21/21 [==============================] - 1s 50ms/step - loss: 1.7933e-04\n",
            "Epoch 23/50\n",
            "21/21 [==============================] - 1s 58ms/step - loss: 1.7710e-04\n",
            "Epoch 24/50\n",
            "21/21 [==============================] - 1s 58ms/step - loss: 1.7657e-04\n",
            "Epoch 25/50\n",
            "21/21 [==============================] - 1s 56ms/step - loss: 1.7192e-04\n",
            "Epoch 26/50\n",
            "21/21 [==============================] - 1s 54ms/step - loss: 1.7139e-04\n",
            "Epoch 27/50\n",
            "21/21 [==============================] - 1s 54ms/step - loss: 1.7178e-04\n",
            "Epoch 28/50\n",
            "21/21 [==============================] - 1s 47ms/step - loss: 1.6541e-04\n",
            "Epoch 29/50\n",
            "21/21 [==============================] - 1s 54ms/step - loss: 1.6474e-04\n",
            "Epoch 30/50\n",
            "21/21 [==============================] - 2s 75ms/step - loss: 1.6586e-04\n",
            "Epoch 31/50\n",
            "21/21 [==============================] - 2s 81ms/step - loss: 1.6405e-04\n",
            "Epoch 32/50\n",
            "21/21 [==============================] - 1s 62ms/step - loss: 1.6457e-04\n",
            "Epoch 33/50\n",
            "21/21 [==============================] - 1s 54ms/step - loss: 1.5855e-04\n",
            "Epoch 34/50\n",
            "21/21 [==============================] - 1s 47ms/step - loss: 1.6049e-04\n",
            "Epoch 35/50\n",
            "21/21 [==============================] - 1s 46ms/step - loss: 1.5709e-04\n",
            "Epoch 36/50\n",
            "21/21 [==============================] - 1s 53ms/step - loss: 1.5513e-04\n",
            "Epoch 37/50\n",
            "21/21 [==============================] - 1s 54ms/step - loss: 1.5353e-04\n",
            "Epoch 38/50\n",
            "21/21 [==============================] - 1s 57ms/step - loss: 1.5315e-04\n",
            "Epoch 39/50\n",
            "21/21 [==============================] - 1s 55ms/step - loss: 1.5397e-04\n",
            "Epoch 40/50\n",
            "21/21 [==============================] - 1s 55ms/step - loss: 1.5370e-04\n",
            "Epoch 41/50\n",
            "21/21 [==============================] - 2s 75ms/step - loss: 1.4995e-04\n",
            "Epoch 42/50\n",
            "21/21 [==============================] - 2s 75ms/step - loss: 1.5222e-04\n",
            "Epoch 43/50\n",
            "21/21 [==============================] - 2s 71ms/step - loss: 1.5292e-04\n",
            "Epoch 44/50\n",
            "21/21 [==============================] - 1s 56ms/step - loss: 1.5144e-04\n",
            "Epoch 45/50\n",
            "21/21 [==============================] - 1s 72ms/step - loss: 1.6221e-04\n",
            "Epoch 46/50\n",
            "21/21 [==============================] - 1s 70ms/step - loss: 1.5351e-04\n",
            "Epoch 47/50\n",
            "21/21 [==============================] - 1s 68ms/step - loss: 1.5130e-04\n",
            "Epoch 48/50\n",
            "21/21 [==============================] - 1s 55ms/step - loss: 1.5209e-04\n",
            "Epoch 49/50\n",
            "21/21 [==============================] - 1s 51ms/step - loss: 1.4431e-04\n",
            "Epoch 50/50\n",
            "21/21 [==============================] - 1s 46ms/step - loss: 1.4649e-04\n"
          ]
        },
        {
          "output_type": "execute_result",
          "data": {
            "text/plain": [
              "<keras.src.callbacks.History at 0x7d05f3346830>"
            ]
          },
          "metadata": {},
          "execution_count": 18
        }
      ]
    },
    {
      "cell_type": "code",
      "source": [
        "model_9_1.fit(X_train_9_1, y_train_9_1, epochs=50, batch_size=64, verbose=1)"
      ],
      "metadata": {
        "colab": {
          "base_uri": "https://localhost:8080/"
        },
        "id": "Zw5Mo19sJnx6",
        "outputId": "38b93eec-a3b0-4ae5-fd11-d73de8118083"
      },
      "execution_count": 19,
      "outputs": [
        {
          "output_type": "stream",
          "name": "stdout",
          "text": [
            "Epoch 1/50\n",
            "24/24 [==============================] - 4s 51ms/step - loss: 0.0692\n",
            "Epoch 2/50\n",
            "24/24 [==============================] - 1s 49ms/step - loss: 0.0082\n",
            "Epoch 3/50\n",
            "24/24 [==============================] - 1s 45ms/step - loss: 0.0013\n",
            "Epoch 4/50\n",
            "24/24 [==============================] - 1s 54ms/step - loss: 5.7539e-04\n",
            "Epoch 5/50\n",
            "24/24 [==============================] - 1s 55ms/step - loss: 5.0050e-04\n",
            "Epoch 6/50\n",
            "24/24 [==============================] - 1s 62ms/step - loss: 4.6495e-04\n",
            "Epoch 7/50\n",
            "24/24 [==============================] - 2s 88ms/step - loss: 4.4592e-04\n",
            "Epoch 8/50\n",
            "24/24 [==============================] - 2s 66ms/step - loss: 4.3776e-04\n",
            "Epoch 9/50\n",
            "24/24 [==============================] - 1s 49ms/step - loss: 4.1759e-04\n",
            "Epoch 10/50\n",
            "24/24 [==============================] - 1s 52ms/step - loss: 4.0529e-04\n",
            "Epoch 11/50\n",
            "24/24 [==============================] - 1s 45ms/step - loss: 3.7844e-04\n",
            "Epoch 12/50\n",
            "24/24 [==============================] - 1s 53ms/step - loss: 3.6960e-04\n",
            "Epoch 13/50\n",
            "24/24 [==============================] - 1s 49ms/step - loss: 3.5716e-04\n",
            "Epoch 14/50\n",
            "24/24 [==============================] - 1s 54ms/step - loss: 3.3803e-04\n",
            "Epoch 15/50\n",
            "24/24 [==============================] - 1s 52ms/step - loss: 3.2959e-04\n",
            "Epoch 16/50\n",
            "24/24 [==============================] - 1s 60ms/step - loss: 3.1707e-04\n",
            "Epoch 17/50\n",
            "24/24 [==============================] - 2s 84ms/step - loss: 3.1153e-04\n",
            "Epoch 18/50\n",
            "24/24 [==============================] - 2s 68ms/step - loss: 3.0984e-04\n",
            "Epoch 19/50\n",
            "24/24 [==============================] - 1s 45ms/step - loss: 2.9618e-04\n",
            "Epoch 20/50\n",
            "24/24 [==============================] - 1s 53ms/step - loss: 2.9287e-04\n",
            "Epoch 21/50\n",
            "24/24 [==============================] - 1s 45ms/step - loss: 2.8073e-04\n",
            "Epoch 22/50\n",
            "24/24 [==============================] - 1s 50ms/step - loss: 2.7308e-04\n",
            "Epoch 23/50\n",
            "24/24 [==============================] - 1s 50ms/step - loss: 2.7038e-04\n",
            "Epoch 24/50\n",
            "24/24 [==============================] - 1s 48ms/step - loss: 2.6402e-04\n",
            "Epoch 25/50\n",
            "24/24 [==============================] - 1s 52ms/step - loss: 2.5739e-04\n",
            "Epoch 26/50\n",
            "24/24 [==============================] - 2s 66ms/step - loss: 2.5237e-04\n",
            "Epoch 27/50\n",
            "24/24 [==============================] - 2s 79ms/step - loss: 2.4643e-04\n",
            "Epoch 28/50\n",
            "24/24 [==============================] - 2s 72ms/step - loss: 2.4685e-04\n",
            "Epoch 29/50\n",
            "24/24 [==============================] - 1s 54ms/step - loss: 2.4134e-04\n",
            "Epoch 30/50\n",
            "24/24 [==============================] - 1s 52ms/step - loss: 2.3648e-04\n",
            "Epoch 31/50\n",
            "24/24 [==============================] - 1s 54ms/step - loss: 2.3687e-04\n",
            "Epoch 32/50\n",
            "24/24 [==============================] - 1s 54ms/step - loss: 2.2780e-04\n",
            "Epoch 33/50\n",
            "24/24 [==============================] - 1s 45ms/step - loss: 2.2600e-04\n",
            "Epoch 34/50\n",
            "24/24 [==============================] - 1s 48ms/step - loss: 2.2766e-04\n",
            "Epoch 35/50\n",
            "24/24 [==============================] - 1s 56ms/step - loss: 2.2066e-04\n",
            "Epoch 36/50\n",
            "24/24 [==============================] - 2s 92ms/step - loss: 2.2018e-04\n",
            "Epoch 37/50\n",
            "24/24 [==============================] - 2s 77ms/step - loss: 2.1759e-04\n",
            "Epoch 38/50\n",
            "24/24 [==============================] - 1s 49ms/step - loss: 2.1132e-04\n",
            "Epoch 39/50\n",
            "24/24 [==============================] - 1s 45ms/step - loss: 2.0895e-04\n",
            "Epoch 40/50\n",
            "24/24 [==============================] - 1s 46ms/step - loss: 2.1175e-04\n",
            "Epoch 41/50\n",
            "24/24 [==============================] - 1s 46ms/step - loss: 2.2196e-04\n",
            "Epoch 42/50\n",
            "24/24 [==============================] - 1s 55ms/step - loss: 2.0775e-04\n",
            "Epoch 43/50\n",
            "24/24 [==============================] - 1s 57ms/step - loss: 2.0550e-04\n",
            "Epoch 44/50\n",
            "24/24 [==============================] - 1s 56ms/step - loss: 2.0499e-04\n",
            "Epoch 45/50\n",
            "24/24 [==============================] - 1s 56ms/step - loss: 2.0358e-04\n",
            "Epoch 46/50\n",
            "24/24 [==============================] - 2s 74ms/step - loss: 1.9898e-04\n",
            "Epoch 47/50\n",
            "24/24 [==============================] - 2s 83ms/step - loss: 2.3071e-04\n",
            "Epoch 48/50\n",
            "24/24 [==============================] - 1s 56ms/step - loss: 2.0735e-04\n",
            "Epoch 49/50\n",
            "24/24 [==============================] - 1s 47ms/step - loss: 2.0596e-04\n",
            "Epoch 50/50\n",
            "24/24 [==============================] - 1s 52ms/step - loss: 1.9161e-04\n"
          ]
        },
        {
          "output_type": "execute_result",
          "data": {
            "text/plain": [
              "<keras.src.callbacks.History at 0x7d05f9146590>"
            ]
          },
          "metadata": {},
          "execution_count": 19
        }
      ]
    },
    {
      "cell_type": "code",
      "source": [
        "# 10. Dự báo dữ liệu test và train _7_3\n",
        "train_predict_7_3 = model_7_3.predict(X_train_7_3)\n",
        "y_pred_7_3 = model_7_3.predict(X_test_7_3)"
      ],
      "metadata": {
        "colab": {
          "base_uri": "https://localhost:8080/"
        },
        "id": "qCfzXn4KORdp",
        "outputId": "59eadf26-e5ba-4710-af6c-dbaffa66ca7a"
      },
      "execution_count": 20,
      "outputs": [
        {
          "output_type": "stream",
          "name": "stdout",
          "text": [
            "37/37 [==============================] - 1s 11ms/step\n",
            "14/14 [==============================] - 0s 11ms/step\n"
          ]
        }
      ]
    },
    {
      "cell_type": "code",
      "source": [
        "# 10. Dự báo dữ liệu test và train _8_2\n",
        "train_predict_8_2 = model_8_2.predict(X_train_8_2)\n",
        "y_pred_8_2 = model_8_2.predict(X_test_8_2)"
      ],
      "metadata": {
        "colab": {
          "base_uri": "https://localhost:8080/"
        },
        "id": "Z7H6b5bilgXv",
        "outputId": "7392ae5f-cc35-40fc-ea60-de952545c9d1"
      },
      "execution_count": 21,
      "outputs": [
        {
          "output_type": "stream",
          "name": "stdout",
          "text": [
            "42/42 [==============================] - 1s 19ms/step\n",
            "9/9 [==============================] - 0s 17ms/step\n"
          ]
        }
      ]
    },
    {
      "cell_type": "code",
      "source": [
        "# 10. Dự báo dữ liệu test và train _9_1\n",
        "train_predict_9_1 = model_9_1.predict(X_train_9_1)\n",
        "y_pred_9_1 = model_9_1.predict(X_test_9_1)"
      ],
      "metadata": {
        "colab": {
          "base_uri": "https://localhost:8080/"
        },
        "id": "cEFXOrCFlqIU",
        "outputId": "baa44897-9014-49d6-f96d-b7ae18b80f24"
      },
      "execution_count": 22,
      "outputs": [
        {
          "output_type": "stream",
          "name": "stdout",
          "text": [
            "48/48 [==============================] - 1s 11ms/step\n",
            "3/3 [==============================] - 0s 11ms/step\n"
          ]
        }
      ]
    },
    {
      "cell_type": "code",
      "source": [
        "# 11. Chuẩn hóa dữ liệu y_pred, _7_3\n",
        "train_predict_7_3 = scaler.inverse_transform(train_predict_7_3)\n",
        "y_pred_7_3 = scaler.inverse_transform(y_pred_7_3)"
      ],
      "metadata": {
        "id": "Ducm9Ki6OcPR"
      },
      "execution_count": 23,
      "outputs": []
    },
    {
      "cell_type": "code",
      "source": [
        "# 11. Chuẩn hóa dữ liệu y_pred, _8_2\n",
        "train_predict_8_2 = scaler.inverse_transform(train_predict_8_2)\n",
        "y_pred_8_2 = scaler.inverse_transform(y_pred_8_2)"
      ],
      "metadata": {
        "id": "AGrwjDEOl9Mj"
      },
      "execution_count": 24,
      "outputs": []
    },
    {
      "cell_type": "code",
      "source": [
        "# 11. Chuẩn hóa dữ liệu y_pred, _9_1\n",
        "train_predict_9_1 = scaler.inverse_transform(train_predict_9_1)\n",
        "y_pred_9_1 = scaler.inverse_transform(y_pred_9_1)"
      ],
      "metadata": {
        "id": "xkjPuJfZmHM8"
      },
      "execution_count": 25,
      "outputs": []
    },
    {
      "cell_type": "code",
      "source": [
        "# 13. Dự báo 30 ngày tiếp theo\n",
        "x_input_7_3 = test_data_7_3[-100:].reshape(1, -1)\n",
        "temp_input_7_3 = list(x_input_7_3[0])\n",
        "lst_output_7_3 = []\n",
        "\n",
        "i = 0\n",
        "while(i < 30):\n",
        "    if len(temp_input_7_3) > 100:\n",
        "        x_input_7_3 = np.array(temp_input_7_3[1:])  # Lấy từng ngày từ ngày thứ 2 trở đi\n",
        "        x_input_7_3 = x_input_7_3.reshape(1, time_step, 1)  # Reshape lại để phù hợp với input của mạng\n",
        "        yhat_7_3 = model_7_3.predict(x_input_7_3, verbose=0)  # Dự đoán giá cho ngày tiếp theo\n",
        "        temp_input_7_3.extend(yhat_7_3[0].tolist())  # Thêm dự đoán vào danh sách temp_input\n",
        "        temp_input_7_3 = temp_input_7_3[1:]  # Loại bỏ ngày đầu tiên\n",
        "        lst_output_7_3.extend(yhat_7_3.tolist())  # Lưu dự đoán vào mảng lst_output\n",
        "        i += 1\n",
        "    else:\n",
        "        x_input_7_3 = x_input_7_3.reshape(1, time_step, 1)  # Reshape lại để phù hợp với input của mạng\n",
        "        yhat_7_3 = model_7_3.predict(x_input_7_3, verbose=0)  # Dự đoán giá cho ngày tiếp theo\n",
        "        temp_input_7_3.extend(yhat_7_3[0].tolist())  # Thêm dự đoán vào danh sách temp_input\n",
        "        lst_output_7_3.extend(yhat_7_3.tolist())  # Lưu dự đoán vào mảng lst_output\n",
        "        i += 1\n",
        "\n",
        "# In ra dự đoán cho 30 ngày tiếp theo\n",
        "print(\"Dự đoán giá cho 30 ngày tiếp theo:\")\n",
        "print(lst_output_7_3)"
      ],
      "metadata": {
        "colab": {
          "base_uri": "https://localhost:8080/"
        },
        "id": "4DfyL9LMW9fX",
        "outputId": "d804ad2f-beea-44cf-9177-dbce3e0fc63f"
      },
      "execution_count": 26,
      "outputs": [
        {
          "output_type": "stream",
          "name": "stdout",
          "text": [
            "Dự đoán giá cho 30 ngày tiếp theo:\n",
            "[[0.07726171612739563], [0.07745891809463501], [0.0776740238070488], [0.07789218425750732], [0.07810993492603302], [0.07832638174295425], [0.07854116708040237], [0.07875414937734604], [0.07896526157855988], [0.0791744813323021], [0.07938182353973389], [0.07958726584911346], [0.07979085296392441], [0.07999258488416672], [0.08019249141216278], [0.0803905799984932], [0.08058684319257736], [0.08078133314847946], [0.0809740424156189], [0.08116499334573746], [0.08135423064231873], [0.08154171705245972], [0.08172750473022461], [0.08191162347793579], [0.08209405094385147], [0.08227483928203583], [0.08245399594306946], [0.08263149112462997], [0.08280741423368454], [0.08298173546791077]]\n"
          ]
        }
      ]
    },
    {
      "cell_type": "code",
      "source": [
        "x_input_8_2 = test_data_8_2[-100:].reshape(1, -1)\n",
        "temp_input_8_2 = list(x_input_8_2[0])\n",
        "lst_output_8_2 = []\n",
        "\n",
        "i = 0\n",
        "while(i < 30):\n",
        "    if len(temp_input_8_2) > 100:\n",
        "        x_input_8_2 = np.array(temp_input_8_2[1:])  # Lấy từng ngày từ ngày thứ 2 trở đi\n",
        "        x_input_8_2 = x_input_8_2.reshape(1, time_step, 1)  # Reshape lại để phù hợp với input của mạng\n",
        "        yhat_8_2 = model_8_2.predict(x_input_8_2, verbose=0)  # Dự đoán giá cho ngày tiếp theo\n",
        "        temp_input_8_2.extend(yhat_8_2[0].tolist())  # Thêm dự đoán vào danh sách temp_input\n",
        "        temp_input_8_2 = temp_input_8_2[1:]  # Loại bỏ ngày đầu tiên\n",
        "        lst_output_8_2.extend(yhat_8_2.tolist())  # Lưu dự đoán vào mảng lst_output\n",
        "        i += 1\n",
        "    else:\n",
        "        x_input_8_2 = x_input_8_2.reshape(1, time_step, 1)  # Reshape lại để phù hợp với input của mạng\n",
        "        yhat_8_2 = model_8_2.predict(x_input_8_2, verbose=0)  # Dự đoán giá cho ngày tiếp theo\n",
        "        temp_input_8_2.extend(yhat_8_2[0].tolist())  # Thêm dự đoán vào danh sách temp_input\n",
        "        lst_output_8_2.extend(yhat_8_2.tolist())  # Lưu dự đoán vào mảng lst_output\n",
        "        i += 1\n",
        "\n",
        "# In ra dự đoán cho 30 ngày tiếp theo\n",
        "print(\"Dự đoán giá cho 30 ngày tiếp theo:\")\n",
        "print(lst_output_8_2)\n"
      ],
      "metadata": {
        "colab": {
          "base_uri": "https://localhost:8080/"
        },
        "id": "03GIDIKioiqA",
        "outputId": "4cfc5c25-42f6-49a7-96f2-b7a8d09ffea0"
      },
      "execution_count": 27,
      "outputs": [
        {
          "output_type": "stream",
          "name": "stdout",
          "text": [
            "Dự đoán giá cho 30 ngày tiếp theo:\n",
            "[[0.07580091059207916], [0.07536862045526505], [0.07490944862365723], [0.07443903386592865], [0.07396408915519714], [0.07348761707544327], [0.0730108916759491], [0.0725344717502594], [0.0720585361123085], [0.07158322632312775], [0.07110856473445892], [0.070634625852108], [0.070161372423172], [0.06968884915113449], [0.06921704858541489], [0.06874597072601318], [0.06827564537525177], [0.06780604273080826], [0.06733720749616623], [0.06686908006668091], [0.06640171259641647], [0.06593509018421173], [0.06546920537948608], [0.06500406563282013], [0.06453968584537506], [0.0640760213136673], [0.06361312419176102], [0.06315097957849503], [0.06268957257270813], [0.06222893297672272]]\n"
          ]
        }
      ]
    },
    {
      "cell_type": "code",
      "source": [
        "x_input_9_1 = test_data_9_1[-100:].reshape(1, -1)\n",
        "temp_input_9_1 = list(x_input_9_1[0])\n",
        "lst_output_9_1 = []\n",
        "\n",
        "i = 0\n",
        "while(i < 30):\n",
        "    if len(temp_input_9_1) > 100:\n",
        "        x_input_9_1 = np.array(temp_input_9_1[1:])  # Lấy từng ngày từ ngày thứ 2 trở đi\n",
        "        x_input_9_1 = x_input_9_1.reshape(1, time_step, 1)  # Reshape lại để phù hợp với input của mạng\n",
        "        yhat_9_1 = model_9_1.predict(x_input_9_1, verbose=0)  # Dự đoán giá cho ngày tiếp theo\n",
        "        temp_input_9_1.extend(yhat_9_1[0].tolist())  # Thêm dự đoán vào danh sách temp_input\n",
        "        temp_input_9_1 = temp_input_9_1[1:]  # Loại bỏ ngày đầu tiên\n",
        "        lst_output_9_1.extend(yhat_9_1.tolist())  # Lưu dự đoán vào mảng lst_output\n",
        "        i += 1\n",
        "    else:\n",
        "        x_input_9_1 = x_input_9_1.reshape(1, time_step, 1)  # Reshape lại để phù hợp với input của mạng\n",
        "        yhat_9_1 = model_9_1.predict(x_input_9_1, verbose=0)  # Dự đoán giá cho ngày tiếp theo\n",
        "        temp_input_9_1.extend(yhat_9_1[0].tolist())  # Thêm dự đoán vào danh sách temp_input\n",
        "        lst_output_9_1.extend(yhat_9_1.tolist())  # Lưu dự đoán vào mảng lst_output\n",
        "        i += 1\n",
        "\n",
        "# In ra dự đoán cho 30 ngày tiếp theo\n",
        "print(\"Dự đoán giá cho 30 ngày tiếp theo:\")\n",
        "print(lst_output_9_1)\n"
      ],
      "metadata": {
        "colab": {
          "base_uri": "https://localhost:8080/"
        },
        "id": "pewbZeFio-sT",
        "outputId": "538cbf98-208b-491a-b515-76c1b45d68e9"
      },
      "execution_count": 28,
      "outputs": [
        {
          "output_type": "stream",
          "name": "stdout",
          "text": [
            "Dự đoán giá cho 30 ngày tiếp theo:\n",
            "[[0.07458086311817169], [0.0739634558558464], [0.07310184836387634], [0.07211902737617493], [0.07106475532054901], [0.0699630007147789], [0.0688270628452301], [0.06766491383314133], [0.06648173928260803], [0.06528101861476898], [0.06406527757644653], [0.0628364086151123], [0.06159580498933792], [0.06034461408853531], [0.059083666652441025], [0.05781368538737297], [0.05653519928455353], [0.05524864047765732], [0.053954388946294785], [0.052652690559625626], [0.051343806087970734], [0.05002788454294205], [0.048705101013183594], [0.047375552356243134], [0.04603935405611992], [0.04469657689332962], [0.04334729164838791], [0.04199155047535896], [0.04062940552830696], [0.039260901510715485]]\n"
          ]
        }
      ]
    },
    {
      "cell_type": "code",
      "source": [
        "train_data_index_7_3 = pd.RangeIndex(start=0, stop=len(train_data_7_3), step=1)\n",
        "plt.plot(train_data_index_7_3, scaler.inverse_transform(train_data_7_3), label='Train')\n",
        "\n",
        "test_data_index_7_3 = pd.RangeIndex(start=train_size_7_3, stop=train_size_7_3+len(test_data_7_3), step=1)\n",
        "plt.plot(test_data_index_7_3, scaler.inverse_transform(test_data_7_3), label='Test')\n",
        "\n",
        "predicted_test_index_7_3 = pd.RangeIndex(start=train_size_7_3+time_step, stop=train_size_7_3+len(y_pred_7_3)+time_step, step=1)\n",
        "plt.plot(predicted_test_index_7_3, y_pred_7_3, label='Predicted Test')\n",
        "\n",
        "future_index_7_3 = pd.RangeIndex(start=test_data_index_7_3[-1]+1, stop=test_data_index_7_3[-1]+31, step=1)\n",
        "plt.plot(future_index_7_3, scaler.inverse_transform(lst_output_7_3), label='Predicted 30 days')\n",
        "\n",
        "plt.title('GRU - NVL Stock Price - 7:13')\n",
        "plt.xlabel('Date')\n",
        "plt.ylabel('Price')\n",
        "plt.legend(['Train','Test','Predict','Predict30days'])\n",
        "plt.show()"
      ],
      "metadata": {
        "colab": {
          "base_uri": "https://localhost:8080/",
          "height": 472
        },
        "id": "9dEqqWytXSRo",
        "outputId": "cbd0803c-20d8-4c8d-ff38-62dfb96846db"
      },
      "execution_count": 38,
      "outputs": [
        {
          "output_type": "display_data",
          "data": {
            "text/plain": [
              "<Figure size 640x480 with 1 Axes>"
            ],
            "image/png": "[encoded data removed]"
          },
          "metadata": {}
        }
      ]
    },
    {
      "cell_type": "code",
      "source": [
        "# Assume train_data_8_2, test_data_8_2, y_pred_8_2, lst_output_8_2, and train_size_8_2 are already defined\n",
        "\n",
        "# Train data index\n",
        "train_data_index_8_2 = pd.RangeIndex(start=0, stop=len(train_data_8_2), step=1)\n",
        "plt.plot(train_data_index_8_2, scaler.inverse_transform(train_data_8_2), label='Train')\n",
        "\n",
        "# Test data index\n",
        "test_data_index_8_2 = pd.RangeIndex(start=train_size_8_2, stop=train_size_8_2+len(test_data_8_2), step=1)\n",
        "plt.plot(test_data_index_8_2, scaler.inverse_transform(test_data_8_2), label='Test')\n",
        "\n",
        "# Predicted test data index\n",
        "predicted_test_index_8_2 = pd.RangeIndex(start=train_size_8_2+time_step, stop=train_size_8_2+len(y_pred_8_2)+time_step, step=1)\n",
        "plt.plot(predicted_test_index_8_2, y_pred_8_2, label='Predicted Test')\n",
        "\n",
        "# Future predictions index\n",
        "future_index_8_2 = pd.RangeIndex(start=test_data_index_8_2[-1]+1, stop=test_data_index_8_2[-1]+31, step=1)\n",
        "plt.plot(future_index_8_2, scaler.inverse_transform(lst_output_8_2), label='Predicted 30 days')\n",
        "\n",
        "# Plot details\n",
        "plt.title('GRU - NVL Stock Price - 8:2')\n",
        "plt.xlabel('Date')\n",
        "plt.ylabel('Price')\n",
        "plt.legend(['Train','Test','Predict','Predict30days'])\n",
        "plt.show()\n"
      ],
      "metadata": {
        "colab": {
          "base_uri": "https://localhost:8080/",
          "height": 472
        },
        "id": "I7mrv2aBsOHg",
        "outputId": "74b7352a-ce8d-4605-f592-ade9e9e60542"
      },
      "execution_count": 39,
      "outputs": [
        {
          "output_type": "display_data",
          "data": {
            "text/plain": [
              "<Figure size 640x480 with 1 Axes>"
            ],
            "image/png": "[encoded data removed]"
          },
          "metadata": {}
        }
      ]
    },
    {
      "cell_type": "code",
      "source": [
        "# Assume train_data_9_1, test_data_9_1, y_pred_9_1, lst_output_9_1, and train_size_9_1 are already defined\n",
        "\n",
        "# Train data index\n",
        "train_data_index_9_1 = pd.RangeIndex(start=0, stop=len(train_data_9_1), step=1)\n",
        "plt.plot(train_data_index_9_1, scaler.inverse_transform(train_data_9_1), label='Train')\n",
        "\n",
        "# Test data index\n",
        "test_data_index_9_1 = pd.RangeIndex(start=train_size_9_1, stop=train_size_9_1 + len(test_data_9_1), step=1)\n",
        "plt.plot(test_data_index_9_1, scaler.inverse_transform(test_data_9_1), label='Test')\n",
        "\n",
        "# Predicted test data index\n",
        "predicted_test_index_9_1 = pd.RangeIndex(start=train_size_9_1 + time_step, stop=train_size_9_1 + len(y_pred_9_1) + time_step, step=1)\n",
        "plt.plot(predicted_test_index_9_1, y_pred_9_1, label='Predicted Test')\n",
        "\n",
        "# Future predictions index\n",
        "future_index_9_1 = pd.RangeIndex(start=test_data_index_9_1[-1] + 1, stop=test_data_index_9_1[-1] + 31, step=1)\n",
        "plt.plot(future_index_9_1, scaler.inverse_transform(lst_output_9_1), label='Predicted 30 days')\n",
        "\n",
        "# Plot details\n",
        "plt.title('GRU - NVL Stock Price - 9:1')\n",
        "plt.xlabel('Date')\n",
        "plt.ylabel('Price')\n",
        "plt.legend(['Train', 'Test', 'Predict', 'Predict30days'])\n",
        "plt.show()\n"
      ],
      "metadata": {
        "colab": {
          "base_uri": "https://localhost:8080/",
          "height": 472
        },
        "id": "2ktsn708sQ20",
        "outputId": "f3087426-29bc-412c-f482-5dadb8ca6045"
      },
      "execution_count": 40,
      "outputs": [
        {
          "output_type": "display_data",
          "data": {
            "text/plain": [
              "<Figure size 640x480 with 1 Axes>"
            ],
            "image/png": "[encoded data removed]"
          },
          "metadata": {}
        }
      ]
    }
  ]
}